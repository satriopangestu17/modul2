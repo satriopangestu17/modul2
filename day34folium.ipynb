{
 "cells": [
  {
   "cell_type": "code",
   "execution_count": 1,
   "metadata": {},
   "outputs": [],
   "source": [
    "# conda install -c conda-forge folium \n",
    "import folium"
   ]
  },
  {
   "cell_type": "code",
   "execution_count": 2,
   "metadata": {},
   "outputs": [
    {
     "data": {
      "text/html": [
       "<div style=\"width:100%;\"><div style=\"position:relative;width:100%;height:0;padding-bottom:60%;\"><iframe src=\"data:text/html;charset=utf-8;base64,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\" style=\"position:absolute;width:100%;height:100%;left:0;top:0;border:none !important;\" allowfullscreen webkitallowfullscreen mozallowfullscreen></iframe></div></div>"
      ],
      "text/plain": [
       "<folium.folium.Map at 0x1137b8320>"
      ]
     },
     "execution_count": 2,
     "metadata": {},
     "output_type": "execute_result"
    }
   ],
   "source": [
    "## showing maps \n",
    "# tiles= 'OpenStreetMap'  #theme\n",
    "# tiles= 'Stamen Toner'  ##fokus pada jalan, bangunan\n",
    "map = folium.Map(\n",
    "location = [-6.1753924,106.8249588],\n",
    "    tiles= 'OpenStreetMap',\n",
    "zoom_start=17)\n",
    "\n",
    "folium.Marker(\n",
    "location = [-6.1753924,106.8271528], #tooltip = '<i></i>Halo!</i>',\n",
    "tooltip = '<img widht=\"200px\" src=\"https://upload.wikimedia.org/wikipedia/commons/e/e4/Projet_Led_Zeppelin.jpg\"></img>', ##harus jpg or png\n",
    "popup = '<b>Monumen Nasional</b><br><small>Jakarta</small>', \n",
    "icon= folium.Icon(color='orange', icon='cloud')).add_to(map)\n",
    "\n",
    "folium.Marker(\n",
    "location = [-6.1753924,106.82725], tooltip = '<i></i>Halo!</i>',\n",
    "popup = '<iframe width=\"100\" height=\"55\" src=\"https://www.youtube.com/embed/A2VpR8HahKc\" frameborder=\"0\" allow=\"accelerometer; autoplay; encrypted-media; gyroscope; picture-in-picture\" allowfullscreen></iframe>', \n",
    "icon= folium.Icon(color='pink', prefix='fa', icon='bullseye')).add_to(map)\n",
    "\n",
    "folium.Circle(location = [-6.1753924,106.82725],\n",
    "            radius = 200,\n",
    "            color = 'red', fill=True, fill_color = 'yellow').add_to(map)\n",
    "\n",
    "map.save('petaku.html')\n",
    "map"
   ]
  },
  {
   "cell_type": "code",
   "execution_count": null,
   "metadata": {},
   "outputs": [],
   "source": []
  },
  {
   "cell_type": "code",
   "execution_count": null,
   "metadata": {},
   "outputs": [],
   "source": []
  }
 ],
 "metadata": {
  "kernelspec": {
   "display_name": "Python 3",
   "language": "python",
   "name": "python3"
  },
  "language_info": {
   "codemirror_mode": {
    "name": "ipython",
    "version": 3
   },
   "file_extension": ".py",
   "mimetype": "text/x-python",
   "name": "python",
   "nbconvert_exporter": "python",
   "pygments_lexer": "ipython3",
   "version": "3.7.0"
  }
 },
 "nbformat": 4,
 "nbformat_minor": 2
}
