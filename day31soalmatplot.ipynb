{
 "cells": [
  {
   "cell_type": "code",
   "execution_count": 8,
   "metadata": {},
   "outputs": [
    {
     "data": {
      "text/plain": [
       "7.0"
      ]
     },
     "execution_count": 8,
     "metadata": {},
     "output_type": "execute_result"
    }
   ],
   "source": [
    "# 3x + y = 15  | 3 1||x| = |15|\n",
    "# x + y = 7    |1 1||y| = |7|\n",
    "import matplotlib.pyplot as plt\n",
    "import numpy as np\n",
    "a = np.array([[3,1], [1,1]])\n",
    "b = np.array([15, 7])\n",
    "tp = np.linalg.solve(a, b)\n",
    "tpx = round(tp[0]); tpy =round(tp[1])\n",
    "tpx, tpy\n",
    "#1. 3x+y =15\n",
    "#- titik potong sb x => y = 0 => 3x =15\n",
    "y1 = 0\n",
    "x1 = np.linalg.solve([[3]], [15])[0]   ##[[3]] adalah koefisiennya x.\n",
    "#- titik potong sb y => x = 0 => y =15\n",
    "x2 = 0\n",
    "y2 = np.linalg.solve([[1]], [15])[0]\n",
    "\n",
    "#2. x+y =7\n",
    "#- titik potong sb x => y = 0 => x =7\n",
    "y3 = 0\n",
    "x3 = np.linalg.solve([[1]], [7])[0]\n",
    "x3\n",
    "#- titik potong sb y => x = 0 => y =7\n",
    "# x4 = 0\n",
    "# y4 = np.linalg.solve([[1]], [7])[0]\n",
    "# y4\n",
    "# plt.plot([x1,y1], [x2,y2])\n",
    "# plt.plot([x3,y3], [x4,y4])\n",
    "# plt.plot(tpx, tpy, 'yo')  ##titiknya\n",
    "# plt.annotate(\n",
    "# 'Titik\\npotong\\n(4,3)', xy=(tpx, tpy),\n",
    "# xytext=(5,4), arrowprops = {'facecolor':'r'})\n",
    "\n",
    "# plt.grid(True)\n",
    "# plt.show()\n",
    "# #ujian analytic jcds04"
   ]
  },
  {
   "cell_type": "code",
   "execution_count": null,
   "metadata": {},
   "outputs": [],
   "source": []
  }
 ],
 "metadata": {
  "kernelspec": {
   "display_name": "Python 3",
   "language": "python",
   "name": "python3"
  },
  "language_info": {
   "codemirror_mode": {
    "name": "ipython",
    "version": 3
   },
   "file_extension": ".py",
   "mimetype": "text/x-python",
   "name": "python",
   "nbconvert_exporter": "python",
   "pygments_lexer": "ipython3",
   "version": "3.7.0"
  }
 },
 "nbformat": 4,
 "nbformat_minor": 4
}
